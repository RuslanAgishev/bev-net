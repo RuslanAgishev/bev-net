{
 "cells": [
  {
   "cell_type": "code",
   "execution_count": 1,
   "metadata": {},
   "outputs": [],
   "source": [
    "import os\n",
    "import numpy as np\n",
    "import matplotlib.pyplot as plt\n",
    "from pyquaternion import Quaternion\n",
    "import math\n",
    "import cv2\n",
    "from tqdm import tqdm\n",
    "from time import time"
   ]
  },
  {
   "cell_type": "code",
   "execution_count": 2,
   "metadata": {},
   "outputs": [],
   "source": [
    "# Checks if a matrix is a valid rotation matrix.\n",
    "def isRotationMatrix(R) :\n",
    "    Rt = np.transpose(R)\n",
    "    shouldBeIdentity = np.dot(Rt, R)\n",
    "    I = np.identity(3, dtype=R.dtype)\n",
    "    n = np.linalg.norm(I - shouldBeIdentity)\n",
    "    return n < 1e-6\n",
    "\n",
    "\n",
    "# Calculates rotation matrix to euler angles\n",
    "# The result is the same as MATLAB except the order\n",
    "# of the euler angles ( x and z are swapped ).\n",
    "def rotationMatrixToEulerAngles(R) :\n",
    "\n",
    "    assert(isRotationMatrix(R))\n",
    "    \n",
    "    sy = math.sqrt(R[0,0] * R[0,0] +  R[1,0] * R[1,0])\n",
    "    \n",
    "    singular = sy < 1e-6\n",
    "\n",
    "    if  not singular :\n",
    "        x = math.atan2(R[2,1] , R[2,2])\n",
    "        y = math.atan2(-R[2,0], sy)\n",
    "        z = math.atan2(R[1,0], R[0,0])\n",
    "    else :\n",
    "        x = math.atan2(-R[1,2], R[1,1])\n",
    "        y = math.atan2(-R[2,0], sy)\n",
    "        z = 0\n",
    "\n",
    "    return np.array([x, y, z])"
   ]
  },
  {
   "cell_type": "code",
   "execution_count": 5,
   "metadata": {},
   "outputs": [
    {
     "name": "stderr",
     "output_type": "stream",
     "text": [
      "100%|██████████| 1000/1000 [00:00<00:00, 1035.62it/s]\n"
     ]
    }
   ],
   "source": [
    "initialized = False\n",
    "PATH = '/home/ruslan/datasets/predictions_cont/'\n",
    "video_writer = None\n",
    "traj = []\n",
    "for bev_file, cam2world_file, velo2cam_file in zip(tqdm(np.sort(os.listdir(os.path.join(PATH, 'bev_probs/')))), \\\n",
    "                                                   np.sort(os.listdir(os.path.join(PATH, 'cam0_to_world/'))), \\\n",
    "                                                   np.sort(os.listdir(os.path.join(PATH, 'velo_to_cam0/')))):\n",
    "    bev_map = np.load(f'{PATH}bev_probs/{bev_file}')\n",
    "    T_cam2world = np.load(f'{PATH}cam0_to_world/{cam2world_file}')\n",
    "    T_velo2cam = np.array([[ 0.04307104, -0.99900437, -0.01162549,  0.26234696],\n",
    "                           [-0.08829286,  0.00778461, -0.99606414, -0.10763414],\n",
    "                           [ 0.99516293,  0.04392797, -0.08786967, -0.82920525],\n",
    "                           [ 0.,          0.,          0.,          1.        ],])\n",
    "    T = T_velo2cam @ T_cam2world\n",
    "    R, t = T[:3, :3], T[:3, 3]\n",
    "    \n",
    "    if not initialized:\n",
    "        x0, y0, z0 = t\n",
    "        initialized = True\n",
    "        \n",
    "    x, y, z = t  #t[0]-x0, t[1]-y0, t[2]-z0\n",
    "    pose = np.array([x, y, z])\n",
    "    traj.append(pose)\n",
    "    \n",
    "    roll, pitch, yaw = rotationMatrixToEulerAngles(R)"
   ]
  },
  {
   "cell_type": "code",
   "execution_count": 12,
   "metadata": {},
   "outputs": [
    {
     "data": {
      "text/plain": [
       "array([[ 0.04307104, -0.99900437, -0.01162549,  0.26234696],\n",
       "       [-0.08829286,  0.00778461, -0.99606414, -0.10763414],\n",
       "       [ 0.99516293,  0.04392797, -0.08786967, -0.82920525],\n",
       "       [ 0.        ,  0.        ,  0.        ,  1.        ]])"
      ]
     },
     "execution_count": 12,
     "metadata": {},
     "output_type": "execute_result"
    }
   ],
   "source": [
    "T_velo2cam"
   ]
  },
  {
   "cell_type": "code",
   "execution_count": 8,
   "metadata": {},
   "outputs": [
    {
     "data": {
      "text/plain": [
       "[<matplotlib.lines.Line2D at 0x7f4e580f37f0>]"
      ]
     },
     "execution_count": 8,
     "metadata": {},
     "output_type": "execute_result"
    },
    {
     "data": {
      "image/png": "[encoded data removed]",
      "text/plain": [
       "<Figure size 432x288 with 1 Axes>"
      ]
     },
     "metadata": {
      "needs_background": "light"
     },
     "output_type": "display_data"
    }
   ],
   "source": [
    "traj = np.array(traj)\n",
    "plt.plot(traj[:,0], traj[:,1], '.')"
   ]
  },
  {
   "cell_type": "code",
   "execution_count": 9,
   "metadata": {},
   "outputs": [
    {
     "data": {
      "text/plain": [
       "(-804.0857284420015, -296.8542143444546)"
      ]
     },
     "execution_count": 9,
     "metadata": {},
     "output_type": "execute_result"
    }
   ],
   "source": [
    "np.min(traj[:,0]), np.max(traj[:,0])"
   ]
  },
  {
   "cell_type": "code",
   "execution_count": 10,
   "metadata": {},
   "outputs": [
    {
     "data": {
      "text/plain": [
       "(-487.75953841867283, -448.2888950186423)"
      ]
     },
     "execution_count": 10,
     "metadata": {},
     "output_type": "execute_result"
    }
   ],
   "source": [
    "np.min(traj[:,1]), np.max(traj[:,1])"
   ]
  },
  {
   "cell_type": "code",
   "execution_count": 11,
   "metadata": {},
   "outputs": [
    {
     "data": {
      "text/plain": [
       "(3243.4797715925833, 3774.9127712871355)"
      ]
     },
     "execution_count": 11,
     "metadata": {},
     "output_type": "execute_result"
    }
   ],
   "source": [
    "np.min(traj[:,2]), np.max(traj[:,2])"
   ]
  },
  {
   "cell_type": "code",
   "execution_count": null,
   "metadata": {},
   "outputs": [],
   "source": [
    "traj.shape"
   ]
  }
 ],
 "metadata": {
  "kernelspec": {
   "display_name": "Python 3",
   "language": "python",
   "name": "python3"
  },
  "language_info": {
   "codemirror_mode": {
    "name": "ipython",
    "version": 3
   },
   "file_extension": ".py",
   "mimetype": "text/x-python",
   "name": "python",
   "nbconvert_exporter": "python",
   "pygments_lexer": "ipython3",
   "version": "3.6.10"
  }
 },
 "nbformat": 4,
 "nbformat_minor": 4
}
